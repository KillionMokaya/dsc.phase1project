{
 "cells": [
  {
   "attachments": {},
   "cell_type": "markdown",
   "metadata": {},
   "source": [
    "#                           What Makes a Movie Profitable? Analysis of Movie Returns and Associated Factors\n",
    "\n"
   ]
  },
  {
   "attachments": {},
   "cell_type": "markdown",
   "metadata": {},
   "source": [
    "## 1. Business Understanding \n",
    "### 1.1 Introduction\n",
    "\n",
    "Microsoft Corporation is a multinational technology company that develops, manufactures, licenses, supports, and sells computer software, consumer electronics, and personal computers. It is known for its flagship products like the Windows operating system, Microsoft Office suite, and Azure cloud computing platform. Product diversification into new sectors enables a corporation reduce dependence on a single industry, tap into new markets, cross-sell, adapt to evolving consumer needs, and sustain long-term success. \n",
    "\n",
    " Diversifying to create original video content can help Microsoft expand their brand presence and reach a wider audience, enhancing their overall visibility and reputation. Also, movies provide opportunities for cross-promotion and product placements, allowing Microsoft to showcase its products and services to a massive audience.   Venturing into movies can open up new revenue streams through licensing and distribution agreements. \n"
   ]
  },
  {
   "attachments": {},
   "cell_type": "markdown",
   "metadata": {},
   "source": [
    "### 1.2  Business Problem\n",
    "Diversification should be approached strategically and based on evidence from market research for successful expansion.  There is a need to understand market trends particularly levels of investment and returns. Also understanding of customer preference is indispensable   in order to invest in products which resonate with the demand and have significant returns. This understanding enables one to make informed decisions, tailor products to the target market, develop effective marketing strategies, and mitigate potential risks. By gaining insights into the new market's opportunities and challenges, a corporation can position themselves for successful diversification and increase the likelihood of achieving desired outcomes.\n",
    "\n",
    "Companies have accrued significant profits from the movie industry. However, this is not guaranteed as the returns are determined by a number of risk factors.  In this regard, I analyze historical data on varied variables to determine what determine profits from movies to inform investment decisions.  \n"
   ]
  },
  {
   "attachments": {},
   "cell_type": "markdown",
   "metadata": {},
   "source": [
    "### 1.3 Main Objective\n",
    "\n",
    "To determine factors that influence profitability of movie genres."
   ]
  },
  {
   "attachments": {},
   "cell_type": "markdown",
   "metadata": {},
   "source": [
    "#### Specific Objectives\n",
    "1. What are the top produced genres of movies?\n",
    "2. Do average rating, runtimes, budget and production budget influence profitability of movies?\n",
    "3. What genres should the company consider investing in?\n"
   ]
  },
  {
   "attachments": {},
   "cell_type": "markdown",
   "metadata": {},
   "source": [
    "### 1.4 Data Understanding \n",
    "\n",
    "The data used was downloaded from the Box Office Mojo and IMDB. Inline with the objective, the analysis focused on variables which are defined below. \n",
    "\n",
    "**Genres**: Category of artistic composition, characterized by similarities in form, style, or subject matter for a piece of content.\n",
    "\n",
    "**Production budget**: The production cost of a movie.\n",
    "\n",
    "**Worldwide gross**: Box office revenues from all countries the movie sold.\n",
    "\n",
    "**Profit**:\tComputed as worldwide gross less production budget"
   ]
  },
  {
   "attachments": {},
   "cell_type": "markdown",
   "metadata": {},
   "source": [
    "### 1.5 Document Organization\n",
    "1. Loading and Checking Data\n",
    "2. Data Cleaning\n",
    "3. Exploratory Data Analysis\n",
    "4. Conclusions and Recommendations\n"
   ]
  },
  {
   "attachments": {},
   "cell_type": "markdown",
   "metadata": {},
   "source": [
    "### 2 Importing libraries"
   ]
  },
  {
   "cell_type": "code",
   "execution_count": null,
   "metadata": {},
   "outputs": [],
   "source": [
    "import numpy as np\n",
    "import pandas as pd\n",
    "import matplotlib.pyplot as plt\n",
    "%matplotlib inline"
   ]
  },
  {
   "attachments": {},
   "cell_type": "markdown",
   "metadata": {},
   "source": [
    "### 3 Reading Data "
   ]
  },
  {
   "cell_type": "code",
   "execution_count": null,
   "metadata": {},
   "outputs": [],
   "source": [
    "#Loads the data from three csv files which have columns  that align with the  main and specific objectives \n",
    "Movie_budget_revenues = pd.read_csv('tn.movie_budgets.csv')\n",
    "Title_ratings = pd.read_csv('title.ratings.csv')\n",
    "Movie_basics = pd.read_csv('title.basics.csv')"
   ]
  },
  {
   "attachments": {},
   "cell_type": "markdown",
   "metadata": {},
   "source": [
    "### 4 Data Wrangling\n",
    "#### 4.1 Joining Datasets\n",
    "\n",
    "The three csv files are joined to be one then irrelevant columns are dropped from the combined data set "
   ]
  },
  {
   "cell_type": "code",
   "execution_count": null,
   "metadata": {},
   "outputs": [],
   "source": [
    "# The title ratings and movie basic have a common column tconst which is  alphanumeric unique identifier of a movie title.\n",
    "#tconst was used to  combined the datasets \n",
    "combined = pd.merge(Title_ratings, Movie_basics, on='tconst', how='left')"
   ]
  },
  {
   "cell_type": "code",
   "execution_count": null,
   "metadata": {},
   "outputs": [],
   "source": [
    "# The combined above and Movie_budget_revenues dataset have a common column of movie title\n",
    "# The column movie was used to combine the datasets \n",
    "# First have change the column name for left joining \n",
    "combined  = combined.rename(columns={'original_title': 'movie'})\n",
    "\n",
    "# Using outer join to  merge combined datasets of  movie rating and movie basic with  budget and revenue \n",
    "final_data = pd.merge(Movie_budget_revenues, combined, on='movie', how='left')"
   ]
  },
  {
   "attachments": {},
   "cell_type": "markdown",
   "metadata": {},
   "source": [
    "#### 4.2 Dropping irrelevant columns"
   ]
  },
  {
   "cell_type": "code",
   "execution_count": null,
   "metadata": {},
   "outputs": [],
   "source": [
    "#The loaded data from three files  has irrelevant columns in relation to the objective.\n",
    "\n",
    "final_data= final_data.drop (['id','movie','release_date', 'tconst', 'numvotes', 'primary_title','start_year', 'domestic_gross'], axis=1)"
   ]
  },
  {
   "attachments": {},
   "cell_type": "markdown",
   "metadata": {},
   "source": [
    "##### The dataset has five columns namely; production_budget, worldwide_gross, averagerating, runtime_minutes and genres "
   ]
  },
  {
   "attachments": {},
   "cell_type": "markdown",
   "metadata": {},
   "source": [
    "#### 4.3 Checking the Data"
   ]
  },
  {
   "cell_type": "code",
   "execution_count": null,
   "metadata": {},
   "outputs": [],
   "source": [
    "#specifying  that all floating-point numbers should be displayed with 2 decimal places. \n",
    "pd.options.display.float_format = '{:.2f}'.format"
   ]
  },
  {
   "cell_type": "code",
   "execution_count": null,
   "metadata": {},
   "outputs": [],
   "source": [
    "# Determining the no. of records in  dataset\n",
    "final_data.shape"
   ]
  },
  {
   "attachments": {},
   "cell_type": "markdown",
   "metadata": {},
   "source": [
    "The final dataset has 6297 rows  and  5 columns"
   ]
  },
  {
   "cell_type": "code",
   "execution_count": null,
   "metadata": {},
   "outputs": [],
   "source": [
    "# Previewing the top of  dataset\n",
    "final_data.head()"
   ]
  },
  {
   "cell_type": "code",
   "execution_count": null,
   "metadata": {},
   "outputs": [],
   "source": [
    "# Previewing the bottom of  dataset\n",
    "final_data.tail()"
   ]
  },
  {
   "cell_type": "code",
   "execution_count": null,
   "metadata": {},
   "outputs": [],
   "source": [
    "# Checking whether each column has an appropriate datatype\n",
    "final_data.dtypes"
   ]
  },
  {
   "attachments": {},
   "cell_type": "markdown",
   "metadata": {},
   "source": [
    "##### Genres, average rating and run time minutes are of the correct data type which is      object and float64 respectively. Production budget and worldwide gross are of object data type which should be corrected to float64"
   ]
  },
  {
   "attachments": {},
   "cell_type": "markdown",
   "metadata": {},
   "source": [
    "### 4.4 Data Cleaning"
   ]
  },
  {
   "cell_type": "code",
   "execution_count": null,
   "metadata": {},
   "outputs": [],
   "source": [
    "#Remove $ and comma from production budget  and wordlwide gross then converting  to float \n",
    "final_data['production_budget'] = final_data['production_budget'].str.replace(\"$\", \"\")\n",
    "final_data['production_budget'] = final_data['production_budget'].str.replace(\",\", \"\")\n",
    "final_data['production_budget'] = final_data['production_budget'] .astype(float)"
   ]
  },
  {
   "cell_type": "code",
   "execution_count": null,
   "metadata": {},
   "outputs": [],
   "source": [
    "final_data['production_budget'].describe()"
   ]
  },
  {
   "cell_type": "code",
   "execution_count": null,
   "metadata": {},
   "outputs": [],
   "source": [
    "#Remove $ and comma from production budget  and wordlwide gross then converting  to float \n",
    "final_data['worldwide_gross'] = final_data['worldwide_gross'].str.replace(\"$\", \"\")\n",
    "final_data['worldwide_gross'] = final_data['worldwide_gross'].str.replace(\",\", \"\")\n",
    "final_data['worldwide_gross'] = final_data['worldwide_gross'] .astype(float)"
   ]
  },
  {
   "cell_type": "code",
   "execution_count": null,
   "metadata": {},
   "outputs": [],
   "source": [
    "final_data['worldwide_gross'].describe()"
   ]
  },
  {
   "cell_type": "code",
   "execution_count": null,
   "metadata": {},
   "outputs": [],
   "source": [
    "# Checking for missing values \n",
    "final_data.isna().sum()"
   ]
  },
  {
   "attachments": {},
   "cell_type": "markdown",
   "metadata": {},
   "source": [
    " ##### Genres, average rating and run time minutes have missing values."
   ]
  },
  {
   "cell_type": "code",
   "execution_count": null,
   "metadata": {},
   "outputs": [],
   "source": [
    "#Dropping missing values. \n",
    "columns_to_drop_na = ['averagerating', 'runtime_minutes', 'genres']\n",
    "final_data.dropna(subset=columns_to_drop_na, inplace=True)\n",
    "\n"
   ]
  },
  {
   "attachments": {},
   "cell_type": "markdown",
   "metadata": {},
   "source": [
    "##### Genres, average rating and run time minutes have missing values were dropped given back refill nor forward refill is applicable."
   ]
  },
  {
   "cell_type": "code",
   "execution_count": null,
   "metadata": {},
   "outputs": [],
   "source": [
    "#Checking if all missing values have been dropped\n",
    "final_data.isna().sum()"
   ]
  },
  {
   "cell_type": "code",
   "execution_count": null,
   "metadata": {},
   "outputs": [],
   "source": [
    "# Checking for duplicated rows and ispecting any if there are\n",
    "duplicate_rows = final_data[final_data.duplicated()].sum()\n",
    "print (duplicate_rows)"
   ]
  },
  {
   "attachments": {},
   "cell_type": "markdown",
   "metadata": {},
   "source": [
    "#### 4.5 Data Decisions \n",
    "I decided to focus only on productions budgets  and  a worldwide gross of more than  $10million."
   ]
  },
  {
   "cell_type": "code",
   "execution_count": null,
   "metadata": {},
   "outputs": [],
   "source": [
    "# final_data['production_budget'] = final_data['production_budget'] >= 100000000\n",
    "# final_data['worldwide_gross'] = final_data['worldwide_gross'] >= 100000000\n"
   ]
  },
  {
   "attachments": {},
   "cell_type": "markdown",
   "metadata": {},
   "source": [
    "##### Decided to focus on movies with a rating of five and above"
   ]
  },
  {
   "cell_type": "code",
   "execution_count": null,
   "metadata": {},
   "outputs": [],
   "source": [
    "final_data = final_data['averagerating'] >= 5"
   ]
  },
  {
   "cell_type": "code",
   "execution_count": null,
   "metadata": {},
   "outputs": [],
   "source": [
    "#Compute profit from production budget and worldwide gross\n",
    "final_data['Profit'] = final_data['worldwide_gross'] - final_data['production_budget']\n"
   ]
  },
  {
   "attachments": {},
   "cell_type": "markdown",
   "metadata": {},
   "source": [
    "## 5 Exploratory Data Analysis\n",
    "### 5.1  Univariate Analysis"
   ]
  },
  {
   "cell_type": "code",
   "execution_count": null,
   "metadata": {},
   "outputs": [],
   "source": [
    "# AGroup movies by genre and rank them\n",
    "grouped_data = final_data.groupby('genres').size().sort_values(ascending=False).reset_index(name='count')\n",
    "# Display the top 10 genres with adjusted index starting from 1\n",
    "top_10_genres = grouped_data.head(10).reset_index(drop=True)\n",
    "top_10_genres.index = top_10_genres.index + 1\n",
    "top_10_genres[['genres', 'count']]\n"
   ]
  },
  {
   "attachments": {},
   "cell_type": "markdown",
   "metadata": {},
   "source": [
    "Drama is the most common genre with a count of 211. Documentary and Comedy follow with 108 and 88 counts, respectively. Comedy, adventure, animation, and romance also appear frequently."
   ]
  },
  {
   "cell_type": "code",
   "execution_count": null,
   "metadata": {},
   "outputs": [],
   "source": [
    "# Group movies by genre and calculate the average rating for top 10 genres \n",
    "grouped_genre_averagerating = final_data.groupby('genres')['averagerating'].mean().reset_index()\n",
    "\n",
    "# Sort the genres based on the averagerating in descending order\n",
    "sorted_genre_averagerating = grouped_genre_averagerating.sort_values(by='averagerating', ascending=False)\n",
    "\n",
    "# Select the top 10 genres as per averagerating\n",
    "top_10_genres_averagerating = sorted_genre_averagerating.head(10)\n",
    "\n",
    "# Reset the index and adjust it to start from 1\n",
    "top_10_genres_averagerating = top_10_genres_averagerating.reset_index(drop=True)\n",
    "top_10_genres_averagerating.index = top_10_genres_averagerating.index + 1\n",
    "\n",
    "# Display the top 10 genres with their average ratings\n",
    "top_10_genres_averagerating[['genres', 'averagerating']]"
   ]
  },
  {
   "cell_type": "code",
   "execution_count": null,
   "metadata": {},
   "outputs": [],
   "source": [
    "# Group movies by genre and calculate the total production budget for top 10 genres\n",
    "grouped_genre_budget = final_data.groupby('genres')['production_budget'].sum().reset_index()\n",
    "\n",
    "# Sort the genres based on the worldwide production budget in descending order\n",
    "sorted_genre_budget = grouped_genre_budget.sort_values(by='production_budget', ascending=False)\n",
    "\n",
    "# Select the top 10 genres as per production budget\n",
    "top_10_genres_budget = sorted_genre_budget.head(10)\n",
    "\n",
    "# Reset the index and adjust it to start from 1\n",
    "top_10_genres_budget.index = range(1, len(top_10_genres_budget) + 1)\n",
    "\n",
    "# Display the top 10 genres as per production budget\n",
    "top_10_genres_budget[['genres', 'production_budget']]"
   ]
  },
  {
   "attachments": {},
   "cell_type": "markdown",
   "metadata": {},
   "source": [
    "Production budgets differ across genres. Action, adventure, and Sci-Fi movies have the highest production budget followed by adventure, animation, and comedy. Other genres like drama, documentary, and comedy also have significant production budgets."
   ]
  },
  {
   "cell_type": "code",
   "execution_count": null,
   "metadata": {},
   "outputs": [],
   "source": [
    "# Group movies by genre and calculate the total worldwide gross for top 10 genres\n",
    "grouped_genre_worldwidegross = final_data.groupby('genres')['worldwide_gross'].sum().reset_index()\n",
    "\n",
    "# Sort the genres based on the worldwide gross in descending order\n",
    "sorted_genre_worldwidegross = grouped_genre_worldwidegross.sort_values(by='worldwide_gross', ascending=False)\n",
    "\n",
    "# Select the top 10 genres as per worldwide_gross\n",
    "top_10_genres_worldwidegross = sorted_genre_worldwidegross.head(10)\n",
    "\n",
    "# Reset the index and adjust it to start from 1\n",
    "top_10_genres_worldwidegross.index = range(1, len(top_10_genres_worldwidegross) + 1)\n",
    "\n",
    "# Display the genres and their worldwide gross\n",
    "top_10_genres_worldwidegross[['genres', 'worldwide_gross']]"
   ]
  },
  {
   "attachments": {},
   "cell_type": "markdown",
   "metadata": {},
   "source": [
    "Action, adventure, and Sci-Fi movies generated the highest worldwide gross followed by adventure, animation, and comedy. Genres like drama, comedy, and documentary also achieved substantial worldwide gross revenue."
   ]
  },
  {
   "cell_type": "code",
   "execution_count": null,
   "metadata": {},
   "outputs": [],
   "source": [
    "# Group movies by genre and calculate the total worldwide  profit for top 10 genres\n",
    "grouped_genre_profit = final_data.groupby('genres')['Profit'].sum().reset_index()\n",
    "\n",
    "# Sort the genres based on the profit in descending order\n",
    "sorted_genre_profit = grouped_genre_profit.sort_values(by='Profit', ascending=False)\n",
    "\n",
    "# Select the top 10 profitable genres\n",
    "top_10_genres_profit = sorted_genre_profit.head(10)\n",
    "\n",
    "# Reset the index and adjust it to start from 1\n",
    "top_10_genres_profit.index = range(1, len(top_10_genres_profit) + 1)\n",
    "\n",
    "# Display the genres and their profit\n",
    "top_10_genres_profit[['genres', 'Profit']]"
   ]
  },
  {
   "attachments": {},
   "cell_type": "markdown",
   "metadata": {},
   "source": [
    "There is a similar pattern as with worldwide gross where action, adventure, and Sci-Fi movies generated the highest profit of followed by adventure, animation, and comedy. Similarly, drama, comedy, and documentary also accrued notable profitability."
   ]
  },
  {
   "attachments": {},
   "cell_type": "markdown",
   "metadata": {},
   "source": [
    "## 5.2 Correlation"
   ]
  },
  {
   "cell_type": "code",
   "execution_count": null,
   "metadata": {},
   "outputs": [],
   "source": [
    "#Correlation between profit and averagerating\n",
    "correlation_profit_averagerating = final_data['Profit'].corr(final_data['averagerating'])\n",
    "correlation_profit_averagerating = round(correlation_profit_averagerating, 2)\n",
    "print(\"The correlation between profit and averagerating is\", correlation_profit_averagerating )\n"
   ]
  },
  {
   "cell_type": "code",
   "execution_count": null,
   "metadata": {},
   "outputs": [],
   "source": [
    "#Correlation between profit and production budget\n",
    "correlation_profit_productionbudget = final_data['Profit'].corr(final_data['production_budget'])\n",
    "correlation_profit_productionbudget = round(correlation_profit_productionbudget, 2)\n",
    "print(\"The correlation between profit and production_budget is\",correlation_profit_productionbudget)\n"
   ]
  },
  {
   "cell_type": "code",
   "execution_count": null,
   "metadata": {},
   "outputs": [],
   "source": [
    "#Correlation between profit and  run time minutes\n",
    "correlation_profit_runtime_minutes = final_data['Profit'].corr(final_data['runtime_minutes'])\n",
    "correlation_profit_runtime_minutes  = round(correlation_profit_runtime_minutes , 2)\n",
    "print(\"The correlation between profit and runtime_minutes is\",correlation_profit_runtime_minutes)"
   ]
  },
  {
   "attachments": {},
   "cell_type": "markdown",
   "metadata": {},
   "source": [
    "### 5.3 Visualization "
   ]
  },
  {
   "cell_type": "code",
   "execution_count": null,
   "metadata": {},
   "outputs": [],
   "source": [
    "# Bar graph between for top 10 genres\n",
    "plt.figure(figsize=(10, 6))\n",
    "plt.barh (top_10_genres['genres'], top_10_genres['count'])\n",
    "plt.xlabel('Genres')\n",
    "plt.ylabel('Count')\n",
    "plt.title('Top 10 Genres')\n"
   ]
  },
  {
   "cell_type": "code",
   "execution_count": null,
   "metadata": {},
   "outputs": [],
   "source": [
    "# Bar graph between for top 10 genres and production budget \n",
    "plt.figure(figsize=(10, 6))\n",
    "plt.barh (top_10_genres_budget['genres'], top_10_genres_budget['production_budget'])\n",
    "plt.xlabel('Production budget in $')\n",
    "plt.ylabel('Genres')\n",
    "plt.title('Production Budget for Top 10 Genres')\n",
    "plt.ticklabel_format(style='plain', axis='x')"
   ]
  },
  {
   "cell_type": "code",
   "execution_count": null,
   "metadata": {},
   "outputs": [],
   "source": [
    "# Bar graph between for top 10 Genres and worldwide gross\n",
    "plt.figure(figsize=(10, 6))\n",
    "plt.barh(top_10_genres_worldwidegross['genres'], top_10_genres_worldwidegross['worldwide_gross'])\n",
    "plt.xlabel('Worldwide Gross in $')\n",
    "plt.ylabel('Genres')\n",
    "plt.title('Worldwide Gross for Top 10 Genres')\n",
    "plt.ticklabel_format(style='plain', axis='x')"
   ]
  },
  {
   "cell_type": "code",
   "execution_count": null,
   "metadata": {},
   "outputs": [],
   "source": [
    "# Bar graph between for top 10 genres and profit\n",
    "plt.figure(figsize=(10, 6))\n",
    "plt.barh(top_10_genres_profit['genres'], top_10_genres_profit['Profit'])\n",
    "plt.xlabel('Profit in $')\n",
    "plt.ylabel('Genres')\n",
    "plt.title('Top 10 Profitable Genres')\n",
    "plt.ticklabel_format(style='plain', axis='x')"
   ]
  },
  {
   "cell_type": "code",
   "execution_count": null,
   "metadata": {},
   "outputs": [],
   "source": [
    "# Bar graph between for top 10 genres and average rating\n",
    "plt.figure(figsize=(10, 6))\n",
    "plt.barh (top_10_genres_averagerating['genres'], top_10_genres_averagerating['averagerating'])\n",
    "plt.xlabel('Averagerating')\n",
    "plt.ylabel('Genres')\n",
    "plt.title('Top 10 Rated Genres')\n",
    "plt.ticklabel_format(style='plain', axis='x')"
   ]
  },
  {
   "cell_type": "code",
   "execution_count": null,
   "metadata": {},
   "outputs": [],
   "source": [
    "# Create the scatter plot\n",
    "plt.scatter(final_data['production_budget'], final_data['Profit'])\n",
    "plt.title(\"Production Budget vs. Profit\")\n",
    "plt.xlabel(\"Production Budget\")\n",
    "plt.ylabel(\"Profit\")\n",
    "plt.ticklabel_format(useOffset=False, style='plain')"
   ]
  },
  {
   "attachments": {},
   "cell_type": "markdown",
   "metadata": {},
   "source": [
    "### 6 Conclusions\n",
    "\n",
    "-  There is a positive correlation between profit and production budget (0.65) and a weaker positive correlation with average rating (0.19) and runtime minutes (0.20). These correlations suggest that higher production budgets tend to result in higher profits, while the impact of average rating and runtime is comparatively smaller.\n",
    "\n",
    "- A comparison of top 10 genres and top-rated genres with gross and profitability shows high ratings do not guarantee movie profitability.\n",
    "\n",
    "- Action, Adventure, Sci-Fi and Adventure, Animation, Comedy are the top genres with the highest production budgets and profits.\n",
    "\n",
    "- Drama, Documentary, and Adventure, Drama, Sci-Fi receive high ratings with moderate production budgets.\n",
    "\n",
    "- Drama, Comedy, and Adventure, Animation, Comedy are popular genres with moderate production budgets and modest returns \n",
    "\n",
    "- Investing in higher production budgets can potentially lead to higher profits. This indicates that allocating more financial resources to the production of a film could be a viable strategy for maximizing returns on investment. However there are other factors influencing profitability in the film industry. As such there is need for further research.\n"
   ]
  },
  {
   "attachments": {},
   "cell_type": "markdown",
   "metadata": {},
   "source": [
    "### 7 Recommendations \n",
    "* While choosing the movie to produce, genre, production budget and profitability should be the main factors followed by average rating\n",
    "- Focus on high-budget genres with strong profitability: Action, Adventure, Sci-Fi, Adventure, Animation, Comedy, and Action, Adventure, Fantasy have both high production budgets and significant profits. Investing in these genres can offer potential returns on investment due to their popularity and financial success.\n",
    "\n",
    "- Consider genres with high ratings and moderate production budgets: Genres like Drama, Documentary, and Adventure, Drama, Sci-Fi receive high ratings and have moderate production budgets. These genres indicate a balance between critical acclaim and financial viability, making them promising investment options.\n",
    "\n",
    "- Explore opportunities in popular genres with moderate production budgets: Drama, Comedy, and Adventure, Animation, Comedy are popular genres with moderate production budgets. Investing in these genres can tap into widespread audience appeal while managing production costs effectively, potentially leading to profitability.\n"
   ]
  }
 ],
 "metadata": {
  "kernelspec": {
   "display_name": "Python 3",
   "language": "python",
   "name": "python3"
  },
  "language_info": {
   "codemirror_mode": {
    "name": "ipython",
    "version": 3
   },
   "file_extension": ".py",
   "mimetype": "text/x-python",
   "name": "python",
   "nbconvert_exporter": "python",
   "pygments_lexer": "ipython3",
   "version": "3.11.3"
  },
  "orig_nbformat": 4
 },
 "nbformat": 4,
 "nbformat_minor": 2
}
